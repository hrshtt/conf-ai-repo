{
 "cells": [
  {
   "cell_type": "code",
   "execution_count": 34,
   "metadata": {},
   "outputs": [
    {
     "name": "stdout",
     "output_type": "stream",
     "text": [
      "0.00\n"
     ]
    }
   ],
   "source": [
    "from datetime import datetime\n",
    "import time\n",
    "\n",
    "class time_tracker:\n",
    "\n",
    "    # Initializer / Instance Attributes\n",
    "    def __init__(self):\n",
    "        self.start_time = time.time()\n",
    "        self.performance_util = {}\n",
    "        self.performance_tracker = {}\n",
    "\n",
    "    # instance method\n",
    "    def total_time(self):\n",
    "    \ttotal = (\"%s\" % (time.time() - self.start_time))\n",
    "    \treturn '%.2f' % float(total)\n",
    "\n",
    "    def log_total_time(self, text):\n",
    "        print(\"----\"*20)\n",
    "        print(f\"{text} at: {self.total_time()}\")\n",
    "        print(\"----\"*20)\n",
    "    \n",
    "    def log_timestamp(self, text):\n",
    "        print(\"----\"*20)\n",
    "        print(f\"{text} at: {timestamp()}\")\n",
    "        print(\"----\"*20)\n",
    "\n",
    "    def track_performance(self, header, timestamp):\n",
    "        self.performance_tracker[header] = timestamp\n",
    "\n",
    "    def create_checkpoint(self, header):\n",
    "        def store_header_wrapper(func):\n",
    "            def wrapper(*args):\n",
    "                checkpoint_start_time = time.time()\n",
    "\n",
    "                val = func(*args)\n",
    "\n",
    "                total = (time.time() - checkpoint_start_time)\n",
    "\n",
    "                self.performance_tracker[header] = total\n",
    "\n",
    "                return val\n",
    "            return wrapper\n",
    "        return store_header_wrapper\n",
    "\n",
    "def timestamp():\n",
    "    dateTimeObj = datetime.now()\n",
    " \n",
    "    timestampStr = dateTimeObj.strftime(\"%Y-%m-%d %H:%M:%S\")\n",
    " \n",
    "    return '[' + timestampStr + ']'\n",
    "\n",
    "def timestamp_simple():\n",
    "    dateTimeObj = datetime.now()\n",
    " \n",
    "    timestampStr = dateTimeObj.strftime(\"%Y-%m-%d_%H-%M-%S\")\n",
    " \n",
    "    return timestampStr\n",
    "\n",
    "if __name__ == '__main__':\n",
    "   \n",
    "\t# Instantiate the Dog object\n",
    "\tx = time_tracker()\n",
    "\n",
    "\t# call our instance methods\n",
    "\tprint(x.total_time())"
   ]
  },
  {
   "cell_type": "code",
   "execution_count": 35,
   "metadata": {},
   "outputs": [],
   "source": [
    "tracker = time_tracker()"
   ]
  },
  {
   "cell_type": "code",
   "execution_count": 36,
   "metadata": {},
   "outputs": [],
   "source": [
    "@tracker.create_checkpoint(\"Hello\")\n",
    "def newfunc(val):\n",
    "    time.sleep(3)\n",
    "    val = val+1\n",
    "    return val"
   ]
  },
  {
   "cell_type": "code",
   "execution_count": 54,
   "metadata": {},
   "outputs": [],
   "source": [
    "def newfunc3(val):\n",
    "    time.sleep(1.5)\n",
    "    val = val+1\n",
    "    return val"
   ]
  },
  {
   "cell_type": "code",
   "execution_count": 56,
   "metadata": {},
   "outputs": [
    {
     "ename": "SyntaxError",
     "evalue": "invalid syntax (<ipython-input-56-8fac7fd90298>, line 2)",
     "output_type": "error",
     "traceback": [
      "\u001b[0;36m  File \u001b[0;32m\"<ipython-input-56-8fac7fd90298>\"\u001b[0;36m, line \u001b[0;32m2\u001b[0m\n\u001b[0;31m    newfunc3()\u001b[0m\n\u001b[0m    ^\u001b[0m\n\u001b[0;31mSyntaxError\u001b[0m\u001b[0;31m:\u001b[0m invalid syntax\n"
     ]
    }
   ],
   "source": [
    "@tracker.create_checkpoint(\"katega\")\n",
    "newfunc3()\n",
    "\n"
   ]
  },
  {
   "cell_type": "code",
   "execution_count": 52,
   "metadata": {},
   "outputs": [
    {
     "data": {
      "text/plain": [
       "13"
      ]
     },
     "execution_count": 52,
     "metadata": {},
     "output_type": "execute_result"
    }
   ],
   "source": [
    "newfunc3(12)"
   ]
  },
  {
   "cell_type": "code",
   "execution_count": 53,
   "metadata": {},
   "outputs": [
    {
     "data": {
      "text/plain": [
       "{'Hello': 3.003483533859253,\n",
       " 'Worldien': 1.5019800662994385,\n",
       " 'katega': 1.5015199184417725}"
      ]
     },
     "execution_count": 53,
     "metadata": {},
     "output_type": "execute_result"
    }
   ],
   "source": [
    "tracker.performance_tracker"
   ]
  },
  {
   "cell_type": "code",
   "execution_count": null,
   "metadata": {},
   "outputs": [],
   "source": [
    "class create_session:\n",
    "    def __init__(self, images_dir):\n",
    "        self.session = time_util.timestamp_simple()\n",
    "        self.tracker = time_util.time_tracker()\n",
    "        self.images_dir = images_dir\n",
    "        self.working_dir = images_dir\n",
    "        self.images_dataframe = self.queue_images(images_dir)\n",
    "        self.total = len(self.images_dataframe)\n",
    "        print(f'--- New Session: {self.session } Created for Directory: {images_dir} ---')\n",
    "\n",
    "    def get_performance(self):\n",
    "        return performance_tracker\n",
    "\n",
    "    @create_checkpoint(\"preprocessing\")\n",
    "    def preprocess(self):\n",
    "        self.working_dir = self.run_dng_to_jpg(self.images_dataframe)\n",
    "        self.working_dir = self.run_normalize_histogram(self.working_dir)\n",
    "\n",
    "    @create_checkpoint(\"queue_images\")\n",
    "    def queue_images(self, images_dir):\n",
    "        images_dir = Path(images_dir)\n",
    "        images_dataframe = pd.DataFrame(columns=[INDEX, KEY, FILE_NAME, FILE_PATH])\n",
    "        for i, image_path in enumerate(images_dir.glob(\"*\")):\n",
    "            images_dataframe.loc[i] = [i, image_path.stem, image_path.name, str(image_path)]\n",
    "        return images_dataframe\n",
    "            \n",
    "    @create_checkpoint(\"normalize_histogram\")\n",
    "    def run_normalize_histogram(self, images_dir):\n",
    "        return normalize_histogram.get_preprocessed_images(images_dir)\n",
    "\n",
    "    @create_checkpoint(\"dng_to_jpg_convert\")\n",
    "    def run_dng_to_jpg(self, images_dataframe):\n",
    "        for i in range(self.total):\n",
    "            if images_dataframe.iloc[i]['file_name'].lower().endswith(\".dng\"):\n",
    "                file_path = Path(images_dataframe.iloc[i][FILE_PATH])\n",
    "                dng_to_jpg.convert(file_path, ) # dng path\n",
    "            # paths_util.printProgressBar(i + 1, self.total)\n",
    "            # # Add New Data\n",
    "            # row.append(name + '.jpg')\n",
    "            # # Convert DNG every time row.append(\"output/\"+ str(run_at) + \"/converted_jpgs/\" + name + \".jpg\")\n",
    "            # # Convert DNG once\n",
    "            # row.append(\"output/converted_jpgs/\" + name + \".jpg\")\n",
    "\n",
    "    @create_checkpoint(\"start_main_run\")\n",
    "    def start_run(self):\n",
    "        get_vectors.get_image_feature_vectors(self.working_dir, self.session , self.tracker)\n",
    "        cluster_images.cluster(self.session , self.tracker)\n",
    "\n",
    "    @create_checkpoint(\"get_vectors\")\n",
    "    def run_get_vectors(self, working_dir, session, tracker):\n",
    "        return get_vectors.get_image_feature_vectors(working_dir, session, tracker)\n",
    "\n",
    "    @create_checkpoint(\"cluster_vectors\")\n",
    "    def run_cluster_images(self, session, tracker):\n",
    "        return cluster_images.cluster(session , tracker)\n",
    "    \n",
    "    class create_checkpoint(object):\n",
    "        def __call__(self, func):\n",
    "            def create_checkpoint(header):\n",
    "                def store_header_wrapper(func):\n",
    "                    def wrapper(*args):\n",
    "                        checkpoint_start_time = time.time()\n",
    "                        val = func(*args)\n",
    "                        total = (time.time() - checkpoint_start_time)\n",
    "                        performance_tracker[header] = total\n",
    "                        return val\n",
    "                    return wrapper\n",
    "                return store_header_wrapper\n",
    "\n",
    "    @B()\n",
    "    def foo(self):\n",
    "        print(\"Hello foo!\")\n"
   ]
  }
 ],
 "metadata": {
  "kernelspec": {
   "display_name": "Python 3",
   "language": "python",
   "name": "python3"
  },
  "language_info": {
   "codemirror_mode": {
    "name": "ipython",
    "version": 3
   },
   "file_extension": ".py",
   "mimetype": "text/x-python",
   "name": "python",
   "nbconvert_exporter": "python",
   "pygments_lexer": "ipython3",
   "version": "3.8.2"
  }
 },
 "nbformat": 4,
 "nbformat_minor": 4
}
