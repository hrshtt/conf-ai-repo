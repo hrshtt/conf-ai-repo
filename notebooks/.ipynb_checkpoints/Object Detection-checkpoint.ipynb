{
 "cells": [
  {
   "cell_type": "code",
   "execution_count": 1,
   "metadata": {},
   "outputs": [],
   "source": [
    "import tensorflow as tf\n",
    "import tensorflow_hub as hub"
   ]
  },
  {
   "cell_type": "code",
   "execution_count": 8,
   "metadata": {},
   "outputs": [],
   "source": [
    "def load_img(path):\n",
    "\n",
    "    # Reads the image file and returns data type of string\n",
    "    img = tf.io.read_file(path)\n",
    "\n",
    "    # Decodes the image to W x H x 3 shape tensor with type of uint8\n",
    "    img = tf.io.decode_jpeg(img, channels=3)\n",
    "\n",
    "    # Resize the image to 224 x 244 x 3 shape tensor\n",
    "    img = tf.image.resize_with_pad(img, 300, 300)\n",
    "\n",
    "    # Converts the data type of uint8 to float32 by adding a new axis\n",
    "    # This makes the img 1 x 224 x 224 x 3 tensor with the data type of float32\n",
    "    # This is required for the mobilenet model we are using\n",
    "    img  = tf.image.convert_image_dtype(img, tf.float32)[tf.newaxis, ...]\n",
    "\n",
    "    return img"
   ]
  },
  {
   "cell_type": "code",
   "execution_count": 3,
   "metadata": {},
   "outputs": [],
   "source": [
    "tf.compat.v1.disable_eager_execution()"
   ]
  },
  {
   "cell_type": "code",
   "execution_count": 4,
   "metadata": {},
   "outputs": [
    {
     "data": {
      "text/plain": [
       "False"
      ]
     },
     "execution_count": 4,
     "metadata": {},
     "output_type": "execute_result"
    }
   ],
   "source": [
    "tf.executing_eagerly()\n"
   ]
  },
  {
   "cell_type": "code",
   "execution_count": 5,
   "metadata": {},
   "outputs": [
    {
     "name": "stdout",
     "output_type": "stream",
     "text": [
      "INFO:tensorflow:Saver not created because there are no variables in the graph to restore\n"
     ]
    },
    {
     "name": "stderr",
     "output_type": "stream",
     "text": [
      "INFO:tensorflow:Saver not created because there are no variables in the graph to restore\n"
     ]
    }
   ],
   "source": [
    "detector = hub.Module(\"https://tfhub.dev/google/openimages_v4/ssd/mobilenet_v2/1\")\n"
   ]
  },
  {
   "cell_type": "code",
   "execution_count": 16,
   "metadata": {},
   "outputs": [
    {
     "name": "stdout",
     "output_type": "stream",
     "text": [
      "INFO:tensorflow:Saver not created because there are no variables in the graph to restore\n"
     ]
    },
    {
     "name": "stderr",
     "output_type": "stream",
     "text": [
      "INFO:tensorflow:Saver not created because there are no variables in the graph to restore\n"
     ]
    }
   ],
   "source": [
    "detector_output = detector(load_img('/home/hrshtt/Documents/Data/garden.jpg'), as_dict=True)\n"
   ]
  },
  {
   "cell_type": "code",
   "execution_count": 17,
   "metadata": {},
   "outputs": [
    {
     "name": "stdout",
     "output_type": "stream",
     "text": [
      "{'detection_scores': <tf.Tensor 'module_apply_default_1/hub_input/strided_slice_1:0' shape=(None, 1) dtype=float32>, 'detection_class_labels': <tf.Tensor 'module_apply_default_1/hub_input/strided_slice_2:0' shape=(None, 1) dtype=int64>, 'detection_class_entities': <tf.Tensor 'module_apply_default_1/hub_input/index_to_string_Lookup:0' shape=(None, 1) dtype=string>, 'detection_class_names': <tf.Tensor 'module_apply_default_1/hub_input/index_to_string_1_Lookup:0' shape=(None, 1) dtype=string>, 'detection_boxes': <tf.Tensor 'module_apply_default_1/hub_input/strided_slice:0' shape=(None, 4) dtype=float32>}\n"
     ]
    }
   ],
   "source": [
    "print(detector_output)"
   ]
  },
  {
   "cell_type": "code",
   "execution_count": 48,
   "metadata": {},
   "outputs": [],
   "source": [
    "from pathlib import Path\n",
    "from time import sleep"
   ]
  },
  {
   "cell_type": "code",
   "execution_count": 2,
   "metadata": {},
   "outputs": [
    {
     "data": {
      "text/plain": [
       "PosixPath('data/reporting/images_set.json')"
      ]
     },
     "execution_count": 2,
     "metadata": {},
     "output_type": "execute_result"
    }
   ],
   "source": [
    "Path('data/reporting') / 'images_set.json'"
   ]
  },
  {
   "cell_type": "code",
   "execution_count": 56,
   "metadata": {},
   "outputs": [
    {
     "name": "stdout",
     "output_type": "stream",
     "text": [
      " This is Some Text\n",
      " This is Some Text------------------------------------------------------------------------------------| 0.0% \n",
      " This is Some Text------------------------------------------------------------------------------------| 0.0% \n",
      " This is Some Text------------------------------------------------------------------------------------| 0.1% \n",
      " This is Some Text------------------------------------------------------------------------------------| 0.1% \n",
      " This is Some Text------------------------------------------------------------------------------------| 0.2% \n",
      " This is Some Text------------------------------------------------------------------------------------| 0.2% \n",
      " This is Some Text------------------------------------------------------------------------------------| 0.3% \n",
      " This is Some Text------------------------------------------------------------------------------------| 0.3% \n",
      " This is Some Text------------------------------------------------------------------------------------| 0.4% \n",
      " This is Some Text------------------------------------------------------------------------------------| 0.4% \n",
      " This is Some Text------------------------------------------------------------------------------------| 0.5% \n",
      " This is Some Text------------------------------------------------------------------------------------| 0.5% \n",
      " This is Some Text------------------------------------------------------------------------------------| 0.6% \n",
      " This is Some Text------------------------------------------------------------------------------------| 0.6% \n",
      " This is Some Text------------------------------------------------------------------------------------| 0.7% \n",
      " This is Some Text------------------------------------------------------------------------------------| 0.7% \n",
      " This is Some Text------------------------------------------------------------------------------------| 0.8% \n",
      " This is Some Text------------------------------------------------------------------------------------| 0.8% \n",
      " This is Some Text------------------------------------------------------------------------------------| 0.9% \n",
      " This is Some Text------------------------------------------------------------------------------------| 0.9% \n",
      " This is Some Text------------------------------------------------------------------------------------| 1.0% \n",
      " This is Some Text------------------------------------------------------------------------------------| 1.0% \n",
      " This is Some Text------------------------------------------------------------------------------------| 1.1% \n",
      " This is Some Text------------------------------------------------------------------------------------| 1.1% \n",
      " This is Some Text------------------------------------------------------------------------------------| 1.2% \n",
      " This is Some Text------------------------------------------------------------------------------------| 1.2% \n",
      " This is Some Text------------------------------------------------------------------------------------| 1.3% \n",
      " This is Some Text------------------------------------------------------------------------------------| 1.3% \n",
      " This is Some Text------------------------------------------------------------------------------------| 1.4% \n",
      " This is Some Text------------------------------------------------------------------------------------| 1.4% \n",
      " |█---------------------------------------------------------------------------------------------------| 1.5% \r"
     ]
    },
    {
     "ename": "KeyboardInterrupt",
     "evalue": "",
     "output_type": "error",
     "traceback": [
      "\u001b[0;31m---------------------------------------------------------------------------\u001b[0m",
      "\u001b[0;31mKeyboardInterrupt\u001b[0m                         Traceback (most recent call last)",
      "\u001b[0;32m<ipython-input-56-248abd0687f6>\u001b[0m in \u001b[0;36m<module>\u001b[0;34m\u001b[0m\n\u001b[1;32m      1\u001b[0m \u001b[0;32mfor\u001b[0m \u001b[0mi\u001b[0m\u001b[0;34m,\u001b[0m \u001b[0mpath\u001b[0m \u001b[0;32min\u001b[0m \u001b[0menumerate\u001b[0m\u001b[0;34m(\u001b[0m\u001b[0mPath\u001b[0m\u001b[0;34m(\u001b[0m\u001b[0;34m'../data/raw/orignal_images'\u001b[0m\u001b[0;34m)\u001b[0m\u001b[0;34m.\u001b[0m\u001b[0mglob\u001b[0m\u001b[0;34m(\u001b[0m\u001b[0;34m'*'\u001b[0m\u001b[0;34m)\u001b[0m\u001b[0;34m)\u001b[0m\u001b[0;34m:\u001b[0m\u001b[0;34m\u001b[0m\u001b[0;34m\u001b[0m\u001b[0m\n\u001b[0;32m----> 2\u001b[0;31m     \u001b[0msleep\u001b[0m\u001b[0;34m(\u001b[0m\u001b[0;36m0.1\u001b[0m\u001b[0;34m)\u001b[0m\u001b[0;34m\u001b[0m\u001b[0;34m\u001b[0m\u001b[0m\n\u001b[0m\u001b[1;32m      3\u001b[0m     \u001b[0mprint\u001b[0m\u001b[0;34m(\u001b[0m\u001b[0;34m'\\r This is Some Text'\u001b[0m\u001b[0;34m,\u001b[0m \u001b[0mend\u001b[0m\u001b[0;34m=\u001b[0m\u001b[0;34m'\\r'\u001b[0m\u001b[0;34m)\u001b[0m\u001b[0;34m\u001b[0m\u001b[0;34m\u001b[0m\u001b[0m\n\u001b[1;32m      4\u001b[0m     \u001b[0mprint\u001b[0m\u001b[0;34m(\u001b[0m\u001b[0;34m)\u001b[0m\u001b[0;34m\u001b[0m\u001b[0;34m\u001b[0m\u001b[0m\n\u001b[1;32m      5\u001b[0m     \u001b[0mprintProgressBar\u001b[0m\u001b[0;34m(\u001b[0m\u001b[0mi\u001b[0m\u001b[0;34m,\u001b[0m \u001b[0;36m2031\u001b[0m\u001b[0;34m)\u001b[0m\u001b[0;34m\u001b[0m\u001b[0;34m\u001b[0m\u001b[0m\n",
      "\u001b[0;31mKeyboardInterrupt\u001b[0m: "
     ]
    }
   ],
   "source": [
    "for i, path in enumerate(Path('../data/raw/orignal_images').glob('*')):\n",
    "    sleep(0.1)\n",
    "    print('\\r This is Some Text', end='\\r')\n",
    "    print()\n",
    "    printProgressBar(i, 2031)"
   ]
  },
  {
   "cell_type": "code",
   "execution_count": 36,
   "metadata": {},
   "outputs": [],
   "source": [
    "from datetime import datetime\n",
    "import time\n",
    "\n",
    "dateTimeObj = datetime.now()\n",
    "\n",
    "timestampStr = dateTimeObj.strftime(\"%Y-%m-%d_%H-%M-%S\")"
   ]
  },
  {
   "cell_type": "code",
   "execution_count": 39,
   "metadata": {},
   "outputs": [
    {
     "data": {
      "text/plain": [
       "'2020-06-17_15-54-38'"
      ]
     },
     "execution_count": 39,
     "metadata": {},
     "output_type": "execute_result"
    }
   ],
   "source": [
    "timestampStr"
   ]
  },
  {
   "cell_type": "code",
   "execution_count": 38,
   "metadata": {},
   "outputs": [],
   "source": [
    "(Path('../data') / timestampStr).mkdir()"
   ]
  },
  {
   "cell_type": "code",
   "execution_count": 40,
   "metadata": {},
   "outputs": [],
   "source": [
    "def printProgressBar (iteration, total, prefix = '', suffix = '', decimals = 1, length = 100, fill = '█', printEnd = \"\\r\"):\n",
    "    \"\"\"\n",
    "    Call in a loop to create terminal progress bar\n",
    "    @params:\n",
    "        iteration   - Required  : current iteration (Int)\n",
    "        total       - Required  : total iterations (Int)\n",
    "        prefix      - Optional  : prefix string (Str)\n",
    "        suffix      - Optional  : suffix string (Str)\n",
    "        decimals    - Optional  : positive number of decimals in percent complete (Int)\n",
    "        length      - Optional  : character length of bar (Int)\n",
    "        fill        - Optional  : bar fill character (Str)\n",
    "        printEnd    - Optional  : end character (e.g. \"\\r\", \"\\r\\n\") (Str)\n",
    "    \"\"\"\n",
    "    percent = (\"{0:.\" + str(decimals) + \"f}\").format(100 * (iteration / float(total)))\n",
    "    filledLength = int(length * iteration // total)\n",
    "    bar = fill * filledLength + '-' * (length - filledLength)\n",
    "    print('\\r%s |%s| %s%% %s' % (prefix, bar, percent, suffix), end = printEnd)\n",
    "    # Print New Line on Complete\n",
    "    if iteration == total: \n",
    "        print()"
   ]
  },
  {
   "cell_type": "code",
   "execution_count": 53,
   "metadata": {},
   "outputs": [
    {
     "data": {
      "text/plain": [
       "'../data/dry_run/2020-06-17_17-36-43/vectors/mobilenet_v2_140_224_vector_matrix.npz'"
      ]
     },
     "execution_count": 53,
     "metadata": {},
     "output_type": "execute_result"
    }
   ],
   "source": [
    "str(list(Path('../data/dry_run/2020-06-17_17-36-43/vectors').glob('*.npz'))[0])"
   ]
  },
  {
   "cell_type": "code",
   "execution_count": 1,
   "metadata": {},
   "outputs": [],
   "source": [
    "from pathlib import Path"
   ]
  },
  {
   "cell_type": "code",
   "execution_count": 13,
   "metadata": {},
   "outputs": [
    {
     "data": {
      "text/plain": [
       "['2020-06-17_19-14-57', '2020-06-17_19-21-25']"
      ]
     },
     "execution_count": 13,
     "metadata": {},
     "output_type": "execute_result"
    }
   ],
   "source": [
    "[path.stem for path in Path('../data/main_run').glob('*')]"
   ]
  },
  {
   "cell_type": "code",
   "execution_count": 12,
   "metadata": {},
   "outputs": [
    {
     "name": "stdout",
     "output_type": "stream",
     "text": [
      "2020-06-17_19-14-57\n",
      "2020-06-17_19-21-25\n"
     ]
    }
   ],
   "source": [
    "for path in Path('../data/main_run').glob('*'):\n",
    "    print(list(path.stem))"
   ]
  }
 ],
 "metadata": {
  "kernelspec": {
   "display_name": "Python 3",
   "language": "python",
   "name": "python3"
  },
  "language_info": {
   "codemirror_mode": {
    "name": "ipython",
    "version": 3
   },
   "file_extension": ".py",
   "mimetype": "text/x-python",
   "name": "python",
   "nbconvert_exporter": "python",
   "pygments_lexer": "ipython3",
   "version": "3.8.2"
  }
 },
 "nbformat": 4,
 "nbformat_minor": 4
}
