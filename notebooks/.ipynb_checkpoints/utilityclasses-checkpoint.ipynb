{
 "cells": [
  {
   "cell_type": "code",
   "execution_count": 25,
   "metadata": {},
   "outputs": [
    {
     "name": "stdout",
     "output_type": "stream",
     "text": [
      "0.00\n"
     ]
    }
   ],
   "source": [
    "from datetime import datetime\n",
    "import time\n",
    "\n",
    "class time_tracker:\n",
    "\n",
    "    # Initializer / Instance Attributes\n",
    "    def __init__(self):\n",
    "        self.start_time = time.time()\n",
    "        self.performance_util = {}\n",
    "        self.performance_tracker = {}\n",
    "\n",
    "    # instance method\n",
    "    def total_time(self):\n",
    "    \ttotal = (\"%s\" % (time.time() - self.start_time))\n",
    "    \treturn '%.2f' % float(total)\n",
    "\n",
    "    def log_total_time(self, text):\n",
    "        print(\"----\"*20)\n",
    "        print(f\"{text} at: {self.total_time()}\")\n",
    "        print(\"----\"*20)\n",
    "    \n",
    "    def log_timestamp(self, text):\n",
    "        print(\"----\"*20)\n",
    "        print(f\"{text} at: {timestamp()}\")\n",
    "        print(\"----\"*20)\n",
    "\n",
    "    def track_performance(self, header, timestamp):\n",
    "        self.performance_tracker[header] = timestamp\n",
    "\n",
    "    def create_checkpoint(header):\n",
    "        def store_header_wrapper(f):\n",
    "            def wrapper(*args):\n",
    "                checkpoint_start_time = time.time()\n",
    "\n",
    "                val = func(*args)\n",
    "\n",
    "                total = (time.time() - checkpoint_start_time)\n",
    "\n",
    "                self.performance_tracker[header] = total\n",
    "\n",
    "                return ('%.2f' % float(total), val)\n",
    "            return wrapper\n",
    "        return store_header_wrapper\n",
    "\n",
    "def timestamp():\n",
    "    dateTimeObj = datetime.now()\n",
    " \n",
    "    timestampStr = dateTimeObj.strftime(\"%Y-%m-%d %H:%M:%S\")\n",
    " \n",
    "    return '[' + timestampStr + ']'\n",
    "\n",
    "def timestamp_simple():\n",
    "    dateTimeObj = datetime.now()\n",
    " \n",
    "    timestampStr = dateTimeObj.strftime(\"%Y-%m-%d_%H-%M-%S\")\n",
    " \n",
    "    return timestampStr\n",
    "\n",
    "if __name__ == '__main__':\n",
    "   \n",
    "\t# Instantiate the Dog object\n",
    "\tx = time_tracker()\n",
    "\n",
    "\t# call our instance methods\n",
    "\tprint(x.total_time())"
   ]
  },
  {
   "cell_type": "code",
   "execution_count": 26,
   "metadata": {},
   "outputs": [],
   "source": [
    "tracker = time_tracker()"
   ]
  },
  {
   "cell_type": "code",
   "execution_count": 27,
   "metadata": {},
   "outputs": [
    {
     "ename": "TypeError",
     "evalue": "create_checkpoint() takes 1 positional argument but 2 were given",
     "output_type": "error",
     "traceback": [
      "\u001b[0;31m---------------------------------------------------------------------------\u001b[0m",
      "\u001b[0;31mTypeError\u001b[0m                                 Traceback (most recent call last)",
      "\u001b[0;32m<ipython-input-27-c58c57a480d8>\u001b[0m in \u001b[0;36m<module>\u001b[0;34m\u001b[0m\n\u001b[0;32m----> 1\u001b[0;31m \u001b[0;34m@\u001b[0m\u001b[0mtracker\u001b[0m\u001b[0;34m.\u001b[0m\u001b[0mcreate_checkpoint\u001b[0m\u001b[0;34m(\u001b[0m\u001b[0;34m\"Hello\"\u001b[0m\u001b[0;34m)\u001b[0m\u001b[0;34m\u001b[0m\u001b[0;34m\u001b[0m\u001b[0m\n\u001b[0m\u001b[1;32m      2\u001b[0m \u001b[0;32mdef\u001b[0m \u001b[0mnewfunc\u001b[0m\u001b[0;34m(\u001b[0m\u001b[0mval\u001b[0m\u001b[0;34m)\u001b[0m\u001b[0;34m:\u001b[0m\u001b[0;34m\u001b[0m\u001b[0;34m\u001b[0m\u001b[0m\n\u001b[1;32m      3\u001b[0m     \u001b[0mtime\u001b[0m\u001b[0;34m.\u001b[0m\u001b[0msleep\u001b[0m\u001b[0;34m(\u001b[0m\u001b[0;36m3\u001b[0m\u001b[0;34m)\u001b[0m\u001b[0;34m\u001b[0m\u001b[0;34m\u001b[0m\u001b[0m\n\u001b[1;32m      4\u001b[0m     \u001b[0mval\u001b[0m \u001b[0;34m=\u001b[0m \u001b[0mval\u001b[0m\u001b[0;34m+\u001b[0m\u001b[0;36m1\u001b[0m\u001b[0;34m\u001b[0m\u001b[0;34m\u001b[0m\u001b[0m\n\u001b[1;32m      5\u001b[0m     \u001b[0;32mreturn\u001b[0m \u001b[0mval\u001b[0m\u001b[0;34m\u001b[0m\u001b[0;34m\u001b[0m\u001b[0m\n",
      "\u001b[0;31mTypeError\u001b[0m: create_checkpoint() takes 1 positional argument but 2 were given"
     ]
    }
   ],
   "source": [
    "@tracker.create_checkpoint(\"Hello\")\n",
    "def newfunc(val):\n",
    "    time.sleep(3)\n",
    "    val = val+1\n",
    "    return val"
   ]
  },
  {
   "cell_type": "code",
   "execution_count": 19,
   "metadata": {},
   "outputs": [
    {
     "data": {
      "text/plain": [
       "('3.00', 4)"
      ]
     },
     "execution_count": 19,
     "metadata": {},
     "output_type": "execute_result"
    }
   ],
   "source": [
    "newfunc(3)"
   ]
  },
  {
   "cell_type": "code",
   "execution_count": 22,
   "metadata": {},
   "outputs": [
    {
     "name": "stdout",
     "output_type": "stream",
     "text": [
      "Inside wrap()\n"
     ]
    }
   ],
   "source": [
    "def create_checkpoint(header):\n",
    "    def store_header_wrapper(f):\n",
    "        def wrapper(*args):\n",
    "            checkpoint_start_time = time.time()\n",
    "\n",
    "            val = func(*args)\n",
    "\n",
    "            total = (time.time() - checkpoint_start_time)\n",
    "            \n",
    "            self.performance_tracker[header] = total\n",
    "\n",
    "            return val\n",
    "        return wrapper\n",
    "    return store_header_wrapper\n",
    "\n",
    "@decoratorFunctionWithArguments(\"hello\")\n",
    "def sayHello(a1, a2, a3, a4):\n",
    "    print('sayHello arguments:', a1, a2, a3, a4)"
   ]
  },
  {
   "cell_type": "code",
   "execution_count": 24,
   "metadata": {},
   "outputs": [
    {
     "name": "stdout",
     "output_type": "stream",
     "text": [
      "Inside wrapped_f()\n",
      "Decorator arguments: hello world 42\n",
      "sayHello arguments: 1 2 3 4\n",
      "After f(*args)\n"
     ]
    }
   ],
   "source": [
    "sayHello(1,2,3,4)"
   ]
  }
 ],
 "metadata": {
  "kernelspec": {
   "display_name": "Python 3",
   "language": "python",
   "name": "python3"
  },
  "language_info": {
   "codemirror_mode": {
    "name": "ipython",
    "version": 3
   },
   "file_extension": ".py",
   "mimetype": "text/x-python",
   "name": "python",
   "nbconvert_exporter": "python",
   "pygments_lexer": "ipython3",
   "version": "3.8.2"
  }
 },
 "nbformat": 4,
 "nbformat_minor": 4
}
